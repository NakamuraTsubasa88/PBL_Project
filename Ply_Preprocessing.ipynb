{
 "cells": [
  {
   "cell_type": "code",
   "execution_count": 111,
   "id": "beef886d",
   "metadata": {},
   "outputs": [
    {
     "name": "stdout",
     "output_type": "stream",
     "text": [
      "Requirement already satisfied: open3d in c:\\users\\inazu\\anaconda3\\lib\\site-packages (0.16.0)Note: you may need to restart the kernel to use updated packages.\n",
      "Requirement already satisfied: ipywidgets>=7.6.0 in c:\\users\\inazu\\anaconda3\\lib\\site-packages (from open3d) (7.6.5)\n",
      "Requirement already satisfied: nbformat==5.5.0 in c:\\users\\inazu\\anaconda3\\lib\\site-packages (from open3d) (5.5.0)\n",
      "Requirement already satisfied: dash>=2.6.0 in c:\\users\\inazu\\anaconda3\\lib\\site-packages (from open3d) (2.7.0)\n",
      "\n",
      "Requirement already satisfied: configargparse in c:\\users\\inazu\\anaconda3\\lib\\site-packages (from open3d) (1.5.3)\n",
      "Requirement already satisfied: numpy>=1.18.0 in c:\\users\\inazu\\anaconda3\\lib\\site-packages (from open3d) (1.20.3)\n",
      "Requirement already satisfied: jupyter_core in c:\\users\\inazu\\anaconda3\\lib\\site-packages (from nbformat==5.5.0->open3d) (4.8.1)\n",
      "Requirement already satisfied: traitlets>=5.1 in c:\\users\\inazu\\anaconda3\\lib\\site-packages (from nbformat==5.5.0->open3d) (5.1.0)\n",
      "Requirement already satisfied: fastjsonschema in c:\\users\\inazu\\anaconda3\\lib\\site-packages (from nbformat==5.5.0->open3d) (2.16.2)\n",
      "Requirement already satisfied: jsonschema>=2.6 in c:\\users\\inazu\\anaconda3\\lib\\site-packages (from nbformat==5.5.0->open3d) (3.2.0)\n",
      "Requirement already satisfied: plotly>=5.0.0 in c:\\users\\inazu\\anaconda3\\lib\\site-packages (from dash>=2.6.0->open3d) (5.11.0)\n",
      "Requirement already satisfied: dash-html-components==2.0.0 in c:\\users\\inazu\\anaconda3\\lib\\site-packages (from dash>=2.6.0->open3d) (2.0.0)\n",
      "Requirement already satisfied: dash-core-components==2.0.0 in c:\\users\\inazu\\anaconda3\\lib\\site-packages (from dash>=2.6.0->open3d) (2.0.0)\n",
      "Requirement already satisfied: Flask>=1.0.4 in c:\\users\\inazu\\anaconda3\\lib\\site-packages (from dash>=2.6.0->open3d) (1.1.2)\n",
      "Requirement already satisfied: dash-table==5.0.0 in c:\\users\\inazu\\anaconda3\\lib\\site-packages (from dash>=2.6.0->open3d) (5.0.0)\n",
      "Requirement already satisfied: itsdangerous>=0.24 in c:\\users\\inazu\\anaconda3\\lib\\site-packages (from Flask>=1.0.4->dash>=2.6.0->open3d) (2.0.1)\n",
      "Requirement already satisfied: click>=5.1 in c:\\users\\inazu\\anaconda3\\lib\\site-packages (from Flask>=1.0.4->dash>=2.6.0->open3d) (8.0.3)\n",
      "Requirement already satisfied: Werkzeug>=0.15 in c:\\users\\inazu\\anaconda3\\lib\\site-packages (from Flask>=1.0.4->dash>=2.6.0->open3d) (2.0.2)\n",
      "Requirement already satisfied: Jinja2>=2.10.1 in c:\\users\\inazu\\anaconda3\\lib\\site-packages (from Flask>=1.0.4->dash>=2.6.0->open3d) (2.11.3)\n",
      "Requirement already satisfied: colorama in c:\\users\\inazu\\anaconda3\\lib\\site-packages (from click>=5.1->Flask>=1.0.4->dash>=2.6.0->open3d) (0.4.4)\n",
      "Requirement already satisfied: ipython-genutils~=0.2.0 in c:\\users\\inazu\\anaconda3\\lib\\site-packages (from ipywidgets>=7.6.0->open3d) (0.2.0)\n",
      "Requirement already satisfied: ipykernel>=4.5.1 in c:\\users\\inazu\\anaconda3\\lib\\site-packages (from ipywidgets>=7.6.0->open3d) (6.4.1)\n",
      "Requirement already satisfied: widgetsnbextension~=3.5.0 in c:\\users\\inazu\\anaconda3\\lib\\site-packages (from ipywidgets>=7.6.0->open3d) (3.5.1)\n",
      "Requirement already satisfied: ipython>=4.0.0 in c:\\users\\inazu\\anaconda3\\lib\\site-packages (from ipywidgets>=7.6.0->open3d) (7.29.0)\n",
      "Requirement already satisfied: jupyterlab-widgets>=1.0.0 in c:\\users\\inazu\\anaconda3\\lib\\site-packages (from ipywidgets>=7.6.0->open3d) (1.0.0)\n",
      "Requirement already satisfied: tornado<7.0,>=4.2 in c:\\users\\inazu\\anaconda3\\lib\\site-packages (from ipykernel>=4.5.1->ipywidgets>=7.6.0->open3d) (6.1)\n",
      "Requirement already satisfied: debugpy<2.0,>=1.0.0 in c:\\users\\inazu\\anaconda3\\lib\\site-packages (from ipykernel>=4.5.1->ipywidgets>=7.6.0->open3d) (1.4.1)\n",
      "Requirement already satisfied: jupyter-client<8.0 in c:\\users\\inazu\\anaconda3\\lib\\site-packages (from ipykernel>=4.5.1->ipywidgets>=7.6.0->open3d) (6.1.12)\n",
      "Requirement already satisfied: matplotlib-inline<0.2.0,>=0.1.0 in c:\\users\\inazu\\anaconda3\\lib\\site-packages (from ipykernel>=4.5.1->ipywidgets>=7.6.0->open3d) (0.1.2)\n",
      "Requirement already satisfied: decorator in c:\\users\\inazu\\anaconda3\\lib\\site-packages (from ipython>=4.0.0->ipywidgets>=7.6.0->open3d) (5.1.0)\n",
      "Requirement already satisfied: backcall in c:\\users\\inazu\\anaconda3\\lib\\site-packages (from ipython>=4.0.0->ipywidgets>=7.6.0->open3d) (0.2.0)\n",
      "Requirement already satisfied: pygments in c:\\users\\inazu\\anaconda3\\lib\\site-packages (from ipython>=4.0.0->ipywidgets>=7.6.0->open3d) (2.10.0)\n",
      "Requirement already satisfied: pickleshare in c:\\users\\inazu\\anaconda3\\lib\\site-packages (from ipython>=4.0.0->ipywidgets>=7.6.0->open3d) (0.7.5)\n",
      "Requirement already satisfied: prompt-toolkit!=3.0.0,!=3.0.1,<3.1.0,>=2.0.0 in c:\\users\\inazu\\anaconda3\\lib\\site-packages (from ipython>=4.0.0->ipywidgets>=7.6.0->open3d) (3.0.20)\n",
      "Requirement already satisfied: jedi>=0.16 in c:\\users\\inazu\\anaconda3\\lib\\site-packages (from ipython>=4.0.0->ipywidgets>=7.6.0->open3d) (0.18.0)\n",
      "Requirement already satisfied: setuptools>=18.5 in c:\\users\\inazu\\anaconda3\\lib\\site-packages (from ipython>=4.0.0->ipywidgets>=7.6.0->open3d) (58.0.4)\n",
      "Requirement already satisfied: parso<0.9.0,>=0.8.0 in c:\\users\\inazu\\anaconda3\\lib\\site-packages (from jedi>=0.16->ipython>=4.0.0->ipywidgets>=7.6.0->open3d) (0.8.2)\n",
      "Requirement already satisfied: MarkupSafe>=0.23 in c:\\users\\inazu\\anaconda3\\lib\\site-packages (from Jinja2>=2.10.1->Flask>=1.0.4->dash>=2.6.0->open3d) (1.1.1)\n",
      "Requirement already satisfied: attrs>=17.4.0 in c:\\users\\inazu\\anaconda3\\lib\\site-packages (from jsonschema>=2.6->nbformat==5.5.0->open3d) (21.2.0)\n",
      "Requirement already satisfied: pyrsistent>=0.14.0 in c:\\users\\inazu\\anaconda3\\lib\\site-packages (from jsonschema>=2.6->nbformat==5.5.0->open3d) (0.18.0)\n",
      "Requirement already satisfied: six>=1.11.0 in c:\\users\\inazu\\anaconda3\\lib\\site-packages (from jsonschema>=2.6->nbformat==5.5.0->open3d) (1.16.0)\n",
      "Requirement already satisfied: python-dateutil>=2.1 in c:\\users\\inazu\\anaconda3\\lib\\site-packages (from jupyter-client<8.0->ipykernel>=4.5.1->ipywidgets>=7.6.0->open3d) (2.8.1)\n",
      "Requirement already satisfied: pyzmq>=13 in c:\\users\\inazu\\anaconda3\\lib\\site-packages (from jupyter-client<8.0->ipykernel>=4.5.1->ipywidgets>=7.6.0->open3d) (22.2.1)\n",
      "Requirement already satisfied: pywin32>=1.0 in c:\\users\\inazu\\anaconda3\\lib\\site-packages (from jupyter_core->nbformat==5.5.0->open3d) (228)\n",
      "Requirement already satisfied: tenacity>=6.2.0 in c:\\users\\inazu\\anaconda3\\lib\\site-packages (from plotly>=5.0.0->dash>=2.6.0->open3d) (8.1.0)\n",
      "Requirement already satisfied: wcwidth in c:\\users\\inazu\\anaconda3\\lib\\site-packages (from prompt-toolkit!=3.0.0,!=3.0.1,<3.1.0,>=2.0.0->ipython>=4.0.0->ipywidgets>=7.6.0->open3d) (0.2.5)\n",
      "Requirement already satisfied: notebook>=4.4.1 in c:\\users\\inazu\\anaconda3\\lib\\site-packages (from widgetsnbextension~=3.5.0->ipywidgets>=7.6.0->open3d) (6.4.5)\n",
      "Requirement already satisfied: Send2Trash>=1.5.0 in c:\\users\\inazu\\anaconda3\\lib\\site-packages (from notebook>=4.4.1->widgetsnbextension~=3.5.0->ipywidgets>=7.6.0->open3d) (1.8.0)\n",
      "Requirement already satisfied: argon2-cffi in c:\\users\\inazu\\anaconda3\\lib\\site-packages (from notebook>=4.4.1->widgetsnbextension~=3.5.0->ipywidgets>=7.6.0->open3d) (20.1.0)\n",
      "Requirement already satisfied: prometheus-client in c:\\users\\inazu\\anaconda3\\lib\\site-packages (from notebook>=4.4.1->widgetsnbextension~=3.5.0->ipywidgets>=7.6.0->open3d) (0.11.0)\n",
      "Requirement already satisfied: nbconvert in c:\\users\\inazu\\anaconda3\\lib\\site-packages (from notebook>=4.4.1->widgetsnbextension~=3.5.0->ipywidgets>=7.6.0->open3d) (6.1.0)\n",
      "Requirement already satisfied: terminado>=0.8.3 in c:\\users\\inazu\\anaconda3\\lib\\site-packages (from notebook>=4.4.1->widgetsnbextension~=3.5.0->ipywidgets>=7.6.0->open3d) (0.9.4)\n",
      "Requirement already satisfied: pywinpty>=0.5 in c:\\users\\inazu\\anaconda3\\lib\\site-packages (from terminado>=0.8.3->notebook>=4.4.1->widgetsnbextension~=3.5.0->ipywidgets>=7.6.0->open3d) (0.5.7)\n",
      "Requirement already satisfied: cffi>=1.0.0 in c:\\users\\inazu\\anaconda3\\lib\\site-packages (from argon2-cffi->notebook>=4.4.1->widgetsnbextension~=3.5.0->ipywidgets>=7.6.0->open3d) (1.14.6)\n",
      "Requirement already satisfied: pycparser in c:\\users\\inazu\\anaconda3\\lib\\site-packages (from cffi>=1.0.0->argon2-cffi->notebook>=4.4.1->widgetsnbextension~=3.5.0->ipywidgets>=7.6.0->open3d) (2.20)\n",
      "Requirement already satisfied: testpath in c:\\users\\inazu\\anaconda3\\lib\\site-packages (from nbconvert->notebook>=4.4.1->widgetsnbextension~=3.5.0->ipywidgets>=7.6.0->open3d) (0.5.0)\n",
      "Requirement already satisfied: mistune<2,>=0.8.1 in c:\\users\\inazu\\anaconda3\\lib\\site-packages (from nbconvert->notebook>=4.4.1->widgetsnbextension~=3.5.0->ipywidgets>=7.6.0->open3d) (0.8.4)\n",
      "Requirement already satisfied: defusedxml in c:\\users\\inazu\\anaconda3\\lib\\site-packages (from nbconvert->notebook>=4.4.1->widgetsnbextension~=3.5.0->ipywidgets>=7.6.0->open3d) (0.7.1)\n",
      "Requirement already satisfied: jupyterlab-pygments in c:\\users\\inazu\\anaconda3\\lib\\site-packages (from nbconvert->notebook>=4.4.1->widgetsnbextension~=3.5.0->ipywidgets>=7.6.0->open3d) (0.1.2)\n",
      "Requirement already satisfied: entrypoints>=0.2.2 in c:\\users\\inazu\\anaconda3\\lib\\site-packages (from nbconvert->notebook>=4.4.1->widgetsnbextension~=3.5.0->ipywidgets>=7.6.0->open3d) (0.3)\n",
      "Requirement already satisfied: pandocfilters>=1.4.1 in c:\\users\\inazu\\anaconda3\\lib\\site-packages (from nbconvert->notebook>=4.4.1->widgetsnbextension~=3.5.0->ipywidgets>=7.6.0->open3d) (1.4.3)\n",
      "Requirement already satisfied: nbclient<0.6.0,>=0.5.0 in c:\\users\\inazu\\anaconda3\\lib\\site-packages (from nbconvert->notebook>=4.4.1->widgetsnbextension~=3.5.0->ipywidgets>=7.6.0->open3d) (0.5.3)\n",
      "Requirement already satisfied: bleach in c:\\users\\inazu\\anaconda3\\lib\\site-packages (from nbconvert->notebook>=4.4.1->widgetsnbextension~=3.5.0->ipywidgets>=7.6.0->open3d) (4.0.0)\n",
      "Requirement already satisfied: async-generator in c:\\users\\inazu\\anaconda3\\lib\\site-packages (from nbclient<0.6.0,>=0.5.0->nbconvert->notebook>=4.4.1->widgetsnbextension~=3.5.0->ipywidgets>=7.6.0->open3d) (1.10)\n",
      "Requirement already satisfied: nest-asyncio in c:\\users\\inazu\\anaconda3\\lib\\site-packages (from nbclient<0.6.0,>=0.5.0->nbconvert->notebook>=4.4.1->widgetsnbextension~=3.5.0->ipywidgets>=7.6.0->open3d) (1.5.1)\n",
      "Requirement already satisfied: packaging in c:\\users\\inazu\\anaconda3\\lib\\site-packages (from bleach->nbconvert->notebook>=4.4.1->widgetsnbextension~=3.5.0->ipywidgets>=7.6.0->open3d) (21.0)\n",
      "Requirement already satisfied: webencodings in c:\\users\\inazu\\anaconda3\\lib\\site-packages (from bleach->nbconvert->notebook>=4.4.1->widgetsnbextension~=3.5.0->ipywidgets>=7.6.0->open3d) (0.5.1)\n",
      "Requirement already satisfied: pyparsing>=2.0.2 in c:\\users\\inazu\\anaconda3\\lib\\site-packages (from packaging->bleach->nbconvert->notebook>=4.4.1->widgetsnbextension~=3.5.0->ipywidgets>=7.6.0->open3d) (3.0.4)\n",
      "Requirement already satisfied: pyransac3d in c:\\users\\inazu\\anaconda3\\lib\\site-packages (0.6.0)\n",
      "Note: you may need to restart the kernel to use updated packages.\n"
     ]
    }
   ],
   "source": [
    "%pip install open3d\n",
    "%pip install pyransac3d\n",
    "\n",
    "import numpy as np\n",
    "import open3d as o3d\n",
    "import pprint as pp\n",
    "import matplotlib.pyplot as plt\n",
    "import pyransac3d as pyrsc"
   ]
  },
  {
   "cell_type": "code",
   "execution_count": 112,
   "id": "3924d241",
   "metadata": {},
   "outputs": [],
   "source": [
    "def display_inlier_outlier(cloud, ind):\n",
    "    inlier_cloud = cloud.select_by_index(ind)\n",
    "    outlier_cloud = cloud.select_by_index(ind, invert=True)\n",
    "\n",
    "    #outが外れ値\n",
    "    print(\"Showing outliers (red) and inliers (gray): \")\n",
    "    # outlier_cloud.paint_uniform_color([1, 0, 0])\n",
    "    # inlier_cloud.paint_uniform_color([0.8, 0.8, 0.8])\n",
    "    return inlier_cloud\n",
    "\n",
    "def voxcel_down(pcd,v_size):\n",
    "    print(\"Downsample the point cloud with a voxel of %s\"%v_size)\n",
    "    downpcd = pcd.voxel_down_sample(voxel_size=v_size)\n",
    "    return downpcd\n",
    "\n",
    "def remove_wall(downpcd, t):\n",
    "    #壁の削除\n",
    "    points = np.asarray(downpcd.points)\n",
    "    # 平面モデルを定義\n",
    "    plano1 = pyrsc.Plane()\n",
    "    # RANSACによる平面推定。平面の式とインライア(inlier)を計算。しきい値は0.01\n",
    "    best_eq, best_inliers = plano1.fit(points, t)\n",
    "    # 元のデータにおけるインライアの点の色を変更\n",
    "    plane = downpcd.select_by_index(best_inliers).paint_uniform_color([1, 0, 0])\n",
    "    # 平面以外の点を抽出\n",
    "    not_plane = downpcd.select_by_index(best_inliers, invert=True)\n",
    "    return not_plane, plane\n",
    "\n",
    "def remove_desk(not_plane,t):\n",
    "    #机の削除\n",
    "    desk_points = np.asarray(not_plane.points)\n",
    "    # 平面モデルを定義\n",
    "    plano1 = pyrsc.Plane()\n",
    "    # RANSACによる平面推定。平面の式とインライア(inlier)を計算。しきい値は0.01\n",
    "    # 机の部分を削除（多分閾値でいけるはず）\n",
    "    best_eq, desk_inliers = plano1.fit(desk_points, t)\n",
    "    # 元のデータにおけるインライアの点の色を変更（赤色に変更）\n",
    "    desk_place = not_plane.select_by_index(desk_inliers).paint_uniform_color([1, 0, 0])\n",
    "    # 平面以外の点を抽出\n",
    "    desk_not_plane = not_plane.select_by_index(desk_inliers, invert=True)\n",
    "    return desk_not_plane, desk_place\n",
    "\n",
    "def farthest_point_sample(point, npoint):\n",
    "    \"\"\"\n",
    "    Input:\n",
    "        xyz: pointcloud data, [N, D]\n",
    "        npoint: number of samples\n",
    "    Return:\n",
    "        centroids: sampled pointcloud index, [npoint, D]\n",
    "    \"\"\"\n",
    "    N, D = point.shape\n",
    "    xyz = point[:,:3]\n",
    "    centroids = np.zeros((npoint,))\n",
    "    distance = np.ones((N,)) * 1e10\n",
    "    farthest = np.random.randint(0, N)\n",
    "    for i in range(npoint):\n",
    "        centroids[i] = farthest\n",
    "        centroid = xyz[farthest, :]\n",
    "        dist = np.sum((xyz - centroid) ** 2, -1)\n",
    "        mask = dist < distance\n",
    "        distance[mask] = dist[mask]\n",
    "        farthest = np.argmax(distance, -1)\n",
    "    point = point[centroids.astype(np.int32)]\n",
    "    return point\n",
    "\n",
    "def l2_norm(a, b):\n",
    "    return ((a - b) ** 2).sum(axis=1)\n",
    "\n",
    "def farthest_point_sampling(pcd, k, metrics=l2_norm):\n",
    "    indices = np.zeros(k, dtype=np.int32)\n",
    "    points = np.asarray(pcd.points)\n",
    "    distances = np.zeros((k, points.shape[0]), dtype=np.float32)\n",
    "    indices[0] = np.random.randint(len(points))\n",
    "    farthest_point = points[indices[0]]\n",
    "    min_distances = metrics(farthest_point, points)\n",
    "    distances[0, :] = min_distances\n",
    "    \n",
    "    for i in range(1, k):\n",
    "        indices[i] = np.argmax(min_distances)\n",
    "        farthest_point = points[indices[i]]\n",
    "        distances[i, :] = metrics(farthest_point, points)\n",
    "        min_distances = np.minimum(min_distances, distances[i, :])\n",
    "    pcd = pcd.select_by_index(indices)\n",
    "    \n",
    "    return pcd"
   ]
  },
  {
   "cell_type": "code",
   "execution_count": 113,
   "id": "c051fa68",
   "metadata": {},
   "outputs": [
    {
     "name": "stdout",
     "output_type": "stream",
     "text": [
      "Downsample the point cloud with a voxel of 0.01\n"
     ]
    }
   ],
   "source": [
    "#ファイル名指定（plyファイル）\n",
    "pcd = o3d.io.read_point_cloud(\"frame.1-4.s303.df1.5.ply\")\n",
    "#voxel_sizeを指定\n",
    "v_size = 0.01\n",
    "#voxcel_downsampling\n",
    "downpcd = voxcel_down(pcd, v_size)\n",
    "\n",
    "o3d.visualization.draw_geometries([downpcd,])"
   ]
  },
  {
   "cell_type": "code",
   "execution_count": 114,
   "id": "c925cdbf",
   "metadata": {},
   "outputs": [
    {
     "name": "stdout",
     "output_type": "stream",
     "text": [
      "PointCloud with 17046 points.\n"
     ]
    }
   ],
   "source": [
    "#閾値設定\n",
    "threshold = 0.01\n",
    "#remove wall\n",
    "not_plane, plane = remove_wall(downpcd, threshold)\n",
    "pp.pprint(not_plane)\n",
    "#3次元座標上の値を出力\n",
    "# pp.pprint(np.asarray(not_plane.points))\n",
    "#可視化\n",
    "#o3d.visualization.draw_geometries([not_plane, plane])"
   ]
  },
  {
   "cell_type": "code",
   "execution_count": 115,
   "id": "abf2e32f",
   "metadata": {},
   "outputs": [
    {
     "name": "stdout",
     "output_type": "stream",
     "text": [
      "Radius oulier removal\n",
      "Showing outliers (red) and inliers (gray): \n"
     ]
    },
    {
     "data": {
      "text/plain": [
       "'\\nprocessed_point = cropped_pcd\\n'"
      ]
     },
     "execution_count": 115,
     "metadata": {},
     "output_type": "execute_result"
    }
   ],
   "source": [
    "\n",
    "#外れ値除去をやる\n",
    "#statistical\n",
    "print(\"Radius oulier removal\")\n",
    "cl, ind = not_plane.remove_statistical_outlier(nb_neighbors=30,std_ratio=2.0)\n",
    "processed_point = display_inlier_outlier(not_plane, ind)\n",
    "\"\"\"\n",
    "processed_point = cropped_pcd\n",
    "\"\"\""
   ]
  },
  {
   "cell_type": "code",
   "execution_count": 116,
   "id": "ea6027e3",
   "metadata": {},
   "outputs": [
    {
     "name": "stdout",
     "output_type": "stream",
     "text": [
      "PointCloud with 13958 points.\n"
     ]
    }
   ],
   "source": [
    "#閾値設定\n",
    "desk_threshold = 0.01\n",
    "#机の削除\n",
    "desk_not_plane, desk_plane = remove_desk(processed_point, desk_threshold)\n",
    "pp.pprint(desk_not_plane)\n",
    "#o3d.visualization.draw_geometries([desk_not_plane, desk_plane])\n",
    "#raise SystemExit"
   ]
  },
  {
   "cell_type": "code",
   "execution_count": 117,
   "id": "2040ef5c",
   "metadata": {},
   "outputs": [
    {
     "name": "stdout",
     "output_type": "stream",
     "text": [
      "Radius oulier removal\n",
      "Showing outliers (red) and inliers (gray): \n",
      "PointCloud with 13782 points.\n"
     ]
    }
   ],
   "source": [
    "#外れ値除去をやる\n",
    "#radisu\n",
    "print(\"Radius oulier removal\")\n",
    "cl, ind = desk_not_plane.remove_radius_outlier(nb_points=20, radius=0.05)\n",
    "processed_point = display_inlier_outlier(desk_not_plane, ind)\n",
    "pp.pprint(processed_point)\n",
    "#o3d.visualization.draw_geometries([processed_point])\n",
    "#raise SystemExit"
   ]
  },
  {
   "cell_type": "code",
   "execution_count": 118,
   "id": "82988c29",
   "metadata": {},
   "outputs": [
    {
     "name": "stdout",
     "output_type": "stream",
     "text": [
      "\n",
      "Original bounds\n",
      "array([-0.6867581 , -0.50005886, -1.4981945 ])\n",
      "array([ 0.7416265 ,  0.50728605, -0.49050003])\n",
      "\n",
      "New bounds\n",
      "array([-0.52989908, -0.49947567, -1.48900008])\n",
      "array([ 0.52981598,  0.44768266, -0.80006254])\n",
      "PointCloud with 10690 points.\n"
     ]
    }
   ],
   "source": [
    "# Cropping\n",
    "input_pcd = processed_point\n",
    "print(\"\\nOriginal bounds\")\n",
    "pp.pprint(input_pcd.get_min_bound())\n",
    "pp.pprint(input_pcd.get_max_bound())\n",
    "\n",
    "boundingbox = o3d.geometry.AxisAlignedBoundingBox(\n",
    "    min_bound=(-0.53,  -0.50,   -1.49),\n",
    "    max_bound=( 0.53,   0.58,  -0.8))\n",
    "cropped_pcd = input_pcd.crop(boundingbox)\n",
    "\n",
    "print(\"\\nNew bounds\")\n",
    "pp.pprint(cropped_pcd.get_min_bound())\n",
    "pp.pprint(cropped_pcd.get_max_bound())\n",
    "\n",
    "processed_point = cropped_pcd\n",
    "pp.pprint(processed_point)\n",
    "o3d.visualization.draw_geometries([processed_point])\n",
    "#raise SystemExit"
   ]
  },
  {
   "cell_type": "code",
   "execution_count": 119,
   "id": "c1b49309",
   "metadata": {},
   "outputs": [
    {
     "name": "stdout",
     "output_type": "stream",
     "text": [
      "Requirement already satisfied: k3d in c:\\users\\inazu\\anaconda3\\lib\\site-packages (2.14.5)\n",
      "Requirement already satisfied: traitlets in c:\\users\\inazu\\anaconda3\\lib\\site-packages (from k3d) (5.1.0)\n",
      "Requirement already satisfied: numpy in c:\\users\\inazu\\anaconda3\\lib\\site-packages (from k3d) (1.20.3)\n",
      "Requirement already satisfied: traittypes in c:\\users\\inazu\\anaconda3\\lib\\site-packages (from k3d) (0.2.1)\n",
      "Requirement already satisfied: msgpack in c:\\users\\inazu\\anaconda3\\lib\\site-packages (from k3d) (1.0.2)\n",
      "Requirement already satisfied: ipywidgets in c:\\users\\inazu\\anaconda3\\lib\\site-packages (from k3d) (7.6.5)\n",
      "Requirement already satisfied: ipython>=4.0.0 in c:\\users\\inazu\\anaconda3\\lib\\site-packages (from ipywidgets->k3d) (7.29.0)\n",
      "Requirement already satisfied: jupyterlab-widgets>=1.0.0 in c:\\users\\inazu\\anaconda3\\lib\\site-packages (from ipywidgets->k3d) (1.0.0)\n",
      "Requirement already satisfied: widgetsnbextension~=3.5.0 in c:\\users\\inazu\\anaconda3\\lib\\site-packages (from ipywidgets->k3d) (3.5.1)\n",
      "Requirement already satisfied: ipython-genutils~=0.2.0 in c:\\users\\inazu\\anaconda3\\lib\\site-packages (from ipywidgets->k3d) (0.2.0)\n",
      "Requirement already satisfied: ipykernel>=4.5.1 in c:\\users\\inazu\\anaconda3\\lib\\site-packages (from ipywidgets->k3d) (6.4.1)\n",
      "Requirement already satisfied: nbformat>=4.2.0 in c:\\users\\inazu\\anaconda3\\lib\\site-packages (from ipywidgets->k3d) (5.5.0)\n",
      "Requirement already satisfied: tornado<7.0,>=4.2 in c:\\users\\inazu\\anaconda3\\lib\\site-packages (from ipykernel>=4.5.1->ipywidgets->k3d) (6.1)\n",
      "Requirement already satisfied: matplotlib-inline<0.2.0,>=0.1.0 in c:\\users\\inazu\\anaconda3\\lib\\site-packages (from ipykernel>=4.5.1->ipywidgets->k3d) (0.1.2)\n",
      "Requirement already satisfied: jupyter-client<8.0 in c:\\users\\inazu\\anaconda3\\lib\\site-packages (from ipykernel>=4.5.1->ipywidgets->k3d) (6.1.12)\n",
      "Requirement already satisfied: debugpy<2.0,>=1.0.0 in c:\\users\\inazu\\anaconda3\\lib\\site-packages (from ipykernel>=4.5.1->ipywidgets->k3d) (1.4.1)\n",
      "Requirement already satisfied: pygments in c:\\users\\inazu\\anaconda3\\lib\\site-packages (from ipython>=4.0.0->ipywidgets->k3d) (2.10.0)\n",
      "Requirement already satisfied: prompt-toolkit!=3.0.0,!=3.0.1,<3.1.0,>=2.0.0 in c:\\users\\inazu\\anaconda3\\lib\\site-packages (from ipython>=4.0.0->ipywidgets->k3d) (3.0.20)\n",
      "Requirement already satisfied: backcall in c:\\users\\inazu\\anaconda3\\lib\\site-packages (from ipython>=4.0.0->ipywidgets->k3d) (0.2.0)\n",
      "Requirement already satisfied: decorator in c:\\users\\inazu\\anaconda3\\lib\\site-packages (from ipython>=4.0.0->ipywidgets->k3d) (5.1.0)\n",
      "Requirement already satisfied: pickleshare in c:\\users\\inazu\\anaconda3\\lib\\site-packages (from ipython>=4.0.0->ipywidgets->k3d) (0.7.5)\n",
      "Requirement already satisfied: setuptools>=18.5 in c:\\users\\inazu\\anaconda3\\lib\\site-packages (from ipython>=4.0.0->ipywidgets->k3d) (58.0.4)\n",
      "Requirement already satisfied: colorama in c:\\users\\inazu\\anaconda3\\lib\\site-packages (from ipython>=4.0.0->ipywidgets->k3d) (0.4.4)\n",
      "Requirement already satisfied: jedi>=0.16 in c:\\users\\inazu\\anaconda3\\lib\\site-packages (from ipython>=4.0.0->ipywidgets->k3d) (0.18.0)\n",
      "Requirement already satisfied: parso<0.9.0,>=0.8.0 in c:\\users\\inazu\\anaconda3\\lib\\site-packages (from jedi>=0.16->ipython>=4.0.0->ipywidgets->k3d) (0.8.2)\n",
      "Requirement already satisfied: python-dateutil>=2.1 in c:\\users\\inazu\\anaconda3\\lib\\site-packages (from jupyter-client<8.0->ipykernel>=4.5.1->ipywidgets->k3d) (2.8.1)\n",
      "Requirement already satisfied: jupyter-core>=4.6.0 in c:\\users\\inazu\\anaconda3\\lib\\site-packages (from jupyter-client<8.0->ipykernel>=4.5.1->ipywidgets->k3d) (4.8.1)\n",
      "Requirement already satisfied: pyzmq>=13 in c:\\users\\inazu\\anaconda3\\lib\\site-packages (from jupyter-client<8.0->ipykernel>=4.5.1->ipywidgets->k3d) (22.2.1)\n",
      "Requirement already satisfied: pywin32>=1.0 in c:\\users\\inazu\\anaconda3\\lib\\site-packages (from jupyter-core>=4.6.0->jupyter-client<8.0->ipykernel>=4.5.1->ipywidgets->k3d) (228)\n",
      "Requirement already satisfied: fastjsonschema in c:\\users\\inazu\\anaconda3\\lib\\site-packages (from nbformat>=4.2.0->ipywidgets->k3d) (2.16.2)\n",
      "Requirement already satisfied: jsonschema>=2.6 in c:\\users\\inazu\\anaconda3\\lib\\site-packages (from nbformat>=4.2.0->ipywidgets->k3d) (3.2.0)\n",
      "Requirement already satisfied: pyrsistent>=0.14.0 in c:\\users\\inazu\\anaconda3\\lib\\site-packages (from jsonschema>=2.6->nbformat>=4.2.0->ipywidgets->k3d) (0.18.0)\n",
      "Requirement already satisfied: six>=1.11.0 in c:\\users\\inazu\\anaconda3\\lib\\site-packages (from jsonschema>=2.6->nbformat>=4.2.0->ipywidgets->k3d) (1.16.0)\n",
      "Requirement already satisfied: attrs>=17.4.0 in c:\\users\\inazu\\anaconda3\\lib\\site-packages (from jsonschema>=2.6->nbformat>=4.2.0->ipywidgets->k3d) (21.2.0)\n",
      "Requirement already satisfied: wcwidth in c:\\users\\inazu\\anaconda3\\lib\\site-packages (from prompt-toolkit!=3.0.0,!=3.0.1,<3.1.0,>=2.0.0->ipython>=4.0.0->ipywidgets->k3d) (0.2.5)\n",
      "Requirement already satisfied: notebook>=4.4.1 in c:\\users\\inazu\\anaconda3\\lib\\site-packages (from widgetsnbextension~=3.5.0->ipywidgets->k3d) (6.4.5)\n",
      "Requirement already satisfied: nbconvert in c:\\users\\inazu\\anaconda3\\lib\\site-packages (from notebook>=4.4.1->widgetsnbextension~=3.5.0->ipywidgets->k3d) (6.1.0)\n",
      "Requirement already satisfied: argon2-cffi in c:\\users\\inazu\\anaconda3\\lib\\site-packages (from notebook>=4.4.1->widgetsnbextension~=3.5.0->ipywidgets->k3d) (20.1.0)\n",
      "Requirement already satisfied: terminado>=0.8.3 in c:\\users\\inazu\\anaconda3\\lib\\site-packages (from notebook>=4.4.1->widgetsnbextension~=3.5.0->ipywidgets->k3d) (0.9.4)\n",
      "Requirement already satisfied: prometheus-client in c:\\users\\inazu\\anaconda3\\lib\\site-packages (from notebook>=4.4.1->widgetsnbextension~=3.5.0->ipywidgets->k3d) (0.11.0)\n",
      "Requirement already satisfied: Send2Trash>=1.5.0 in c:\\users\\inazu\\anaconda3\\lib\\site-packages (from notebook>=4.4.1->widgetsnbextension~=3.5.0->ipywidgets->k3d) (1.8.0)\n",
      "Requirement already satisfied: jinja2 in c:\\users\\inazu\\anaconda3\\lib\\site-packages (from notebook>=4.4.1->widgetsnbextension~=3.5.0->ipywidgets->k3d) (2.11.3)\n",
      "Requirement already satisfied: pywinpty>=0.5 in c:\\users\\inazu\\anaconda3\\lib\\site-packages (from terminado>=0.8.3->notebook>=4.4.1->widgetsnbextension~=3.5.0->ipywidgets->k3d) (0.5.7)\n",
      "Requirement already satisfied: cffi>=1.0.0 in c:\\users\\inazu\\anaconda3\\lib\\site-packages (from argon2-cffi->notebook>=4.4.1->widgetsnbextension~=3.5.0->ipywidgets->k3d) (1.14.6)\n",
      "Requirement already satisfied: pycparser in c:\\users\\inazu\\anaconda3\\lib\\site-packages (from cffi>=1.0.0->argon2-cffi->notebook>=4.4.1->widgetsnbextension~=3.5.0->ipywidgets->k3d) (2.20)\n",
      "Requirement already satisfied: MarkupSafe>=0.23 in c:\\users\\inazu\\anaconda3\\lib\\site-packages (from jinja2->notebook>=4.4.1->widgetsnbextension~=3.5.0->ipywidgets->k3d) (1.1.1)\n",
      "Requirement already satisfied: bleach in c:\\users\\inazu\\anaconda3\\lib\\site-packages (from nbconvert->notebook>=4.4.1->widgetsnbextension~=3.5.0->ipywidgets->k3d) (4.0.0)\n",
      "Requirement already satisfied: jupyterlab-pygments in c:\\users\\inazu\\anaconda3\\lib\\site-packages (from nbconvert->notebook>=4.4.1->widgetsnbextension~=3.5.0->ipywidgets->k3d) (0.1.2)\n",
      "Requirement already satisfied: mistune<2,>=0.8.1 in c:\\users\\inazu\\anaconda3\\lib\\site-packages (from nbconvert->notebook>=4.4.1->widgetsnbextension~=3.5.0->ipywidgets->k3d) (0.8.4)\n",
      "Requirement already satisfied: nbclient<0.6.0,>=0.5.0 in c:\\users\\inazu\\anaconda3\\lib\\site-packages (from nbconvert->notebook>=4.4.1->widgetsnbextension~=3.5.0->ipywidgets->k3d) (0.5.3)\n",
      "Requirement already satisfied: pandocfilters>=1.4.1 in c:\\users\\inazu\\anaconda3\\lib\\site-packages (from nbconvert->notebook>=4.4.1->widgetsnbextension~=3.5.0->ipywidgets->k3d) (1.4.3)\n",
      "Requirement already satisfied: defusedxml in c:\\users\\inazu\\anaconda3\\lib\\site-packages (from nbconvert->notebook>=4.4.1->widgetsnbextension~=3.5.0->ipywidgets->k3d) (0.7.1)\n",
      "Requirement already satisfied: entrypoints>=0.2.2 in c:\\users\\inazu\\anaconda3\\lib\\site-packages (from nbconvert->notebook>=4.4.1->widgetsnbextension~=3.5.0->ipywidgets->k3d) (0.3)\n",
      "Requirement already satisfied: testpath in c:\\users\\inazu\\anaconda3\\lib\\site-packages (from nbconvert->notebook>=4.4.1->widgetsnbextension~=3.5.0->ipywidgets->k3d) (0.5.0)\n",
      "Requirement already satisfied: async-generator in c:\\users\\inazu\\anaconda3\\lib\\site-packages (from nbclient<0.6.0,>=0.5.0->nbconvert->notebook>=4.4.1->widgetsnbextension~=3.5.0->ipywidgets->k3d) (1.10)\n",
      "Requirement already satisfied: nest-asyncio in c:\\users\\inazu\\anaconda3\\lib\\site-packages (from nbclient<0.6.0,>=0.5.0->nbconvert->notebook>=4.4.1->widgetsnbextension~=3.5.0->ipywidgets->k3d) (1.5.1)\n",
      "Requirement already satisfied: packaging in c:\\users\\inazu\\anaconda3\\lib\\site-packages (from bleach->nbconvert->notebook>=4.4.1->widgetsnbextension~=3.5.0->ipywidgets->k3d) (21.0)\n",
      "Requirement already satisfied: webencodings in c:\\users\\inazu\\anaconda3\\lib\\site-packages (from bleach->nbconvert->notebook>=4.4.1->widgetsnbextension~=3.5.0->ipywidgets->k3d) (0.5.1)\n",
      "Requirement already satisfied: pyparsing>=2.0.2 in c:\\users\\inazu\\anaconda3\\lib\\site-packages (from packaging->bleach->nbconvert->notebook>=4.4.1->widgetsnbextension~=3.5.0->ipywidgets->k3d) (3.0.4)\n",
      "Note: you may need to restart the kernel to use updated packages.\n"
     ]
    }
   ],
   "source": [
    "%pip install k3d\n",
    "\n",
    "import numpy as np\n",
    "import k3d\n",
    "from sklearn.datasets import make_blobs\n",
    "from sklearn.cluster import KMeans\n",
    "from sklearn.cluster import DBSCAN\n",
    "from sklearn import cluster, datasets, mixture\n",
    "import time"
   ]
  },
  {
   "cell_type": "code",
   "execution_count": 137,
   "id": "ae32c451",
   "metadata": {},
   "outputs": [
    {
     "name": "stdout",
     "output_type": "stream",
     "text": [
      "[Open3D DEBUG] Precompute neighbors.\n",
      "[Open3D DEBUG] Done Precompute neighbors.\n",
      "[Open3D DEBUG] Compute Clusters\n",
      "[Open3D DEBUG] Done Compute Clusters: 30\n",
      "point cloud has 30 clusters\n",
      "PointCloud with 2048 points.\n"
     ]
    }
   ],
   "source": [
    "#pp.pprint(np.asarray(processed_point.points))\n",
    "#FPSを実施\n",
    "#human_point = np.asarray(processed_point.points)\n",
    "#array形式に変更されている\n",
    "#fps = farthest_point_sampling(processed_point, 2048)\n",
    "\n",
    "with o3d.utility.VerbosityContextManager(o3d.utility.VerbosityLevel.Debug) as cm:\n",
    "    labels_o3d = processed_point.cluster_dbscan(eps=0.02, min_points=3, print_progress=True)\n",
    "    labels = np.array(labels_o3d)\n",
    "\n",
    "max_label = labels.max()\n",
    "print(f\"point cloud has {max_label + 1} clusters\")\n",
    "colors = plt.get_cmap(\"tab20\")(labels / (max_label if max_label > 0 else 1))\n",
    "colors[labels < 0] = 0\n",
    "processed_point.colors = o3d.utility.Vector3dVector(colors[:, :3])\n",
    "\n",
    "cluster_max_point = np.array(processed_point.points)\n",
    "cluster_point = []\n",
    "\n",
    "for i,j in enumerate(labels):\n",
    "    if j == 0:\n",
    "        cluster_point.append(cluster_max_point[i])\n",
    "\n",
    "main_pcd = o3d.geometry.PointCloud()\n",
    "main_pcd.points = o3d.utility.Vector3dVector(cluster_point)\n",
    "o3d.visualization.draw_geometries([main_pcd])\n",
    "\n",
    "fps = farthest_point_sampling(main_pcd,2048)\n",
    "\n",
    "#numpy→open3d型に変更\n",
    "main_pcd = o3d.geometry.PointCloud()\n",
    "main_pcd.points = o3d.utility.Vector3dVector(fps.points)\n",
    "\n",
    "pp.pprint(main_pcd)\n"
   ]
  },
  {
   "cell_type": "code",
   "execution_count": 138,
   "id": "6113b0c2",
   "metadata": {},
   "outputs": [],
   "source": [
    "# 可視化\n",
    "o3d.visualization.draw_geometries([main_pcd])\n"
   ]
  }
 ],
 "metadata": {
  "kernelspec": {
   "display_name": "Python 3.9.7 ('base')",
   "language": "python",
   "name": "python3"
  },
  "language_info": {
   "codemirror_mode": {
    "name": "ipython",
    "version": 3
   },
   "file_extension": ".py",
   "mimetype": "text/x-python",
   "name": "python",
   "nbconvert_exporter": "python",
   "pygments_lexer": "ipython3",
   "version": "3.9.7"
  },
  "vscode": {
   "interpreter": {
    "hash": "f6be79754e4dbd7fe9e9d5828ecd8649a4eaad92ac26e8777f9b1a11c9793620"
   }
  }
 },
 "nbformat": 4,
 "nbformat_minor": 5
}
